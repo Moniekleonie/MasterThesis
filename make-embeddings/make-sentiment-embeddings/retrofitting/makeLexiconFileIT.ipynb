{
 "cells": [
  {
   "cell_type": "code",
   "execution_count": null,
   "metadata": {},
   "outputs": [],
   "source": [
    "import pandas as pd"
   ]
  },
  {
   "cell_type": "code",
   "execution_count": null,
   "metadata": {},
   "outputs": [],
   "source": [
    "colnames =[\"lemma\",\"POS\",\"WordnetID\",\"PosScore\",\"NegScore\",\"polarity\",\"intensity\"]\n",
    "data = pd.read_csv('sentix', sep=\"\\t\", header=None, names=colnames)\n",
    "\n"
   ]
  },
  {
   "cell_type": "code",
   "execution_count": null,
   "metadata": {},
   "outputs": [],
   "source": [
    "data.head(10)"
   ]
  },
  {
   "cell_type": "code",
   "execution_count": null,
   "metadata": {},
   "outputs": [],
   "source": [
    "superpos = []\n",
    "verypos = []\n",
    "pospos = []\n",
    "pos = []\n",
    "neg = []\n",
    "negneg = []\n",
    "veryneg = []\n",
    "superneg = []\n",
    "\n",
    "for num, row in data.iterrows():\n",
    "    # add positives\n",
    "    if row['PosScore'] > 0.9 and row['NegScore'] < 0.2:\n",
    "        words = row['lemma'].split()\n",
    "        for word in words:\n",
    "            word = word.rstrip('0123456789#')\n",
    "            if '_' not in word:\n",
    "                superpos.append(word)\n",
    "    elif row['PosScore'] > 0.8 and row['NegScore'] < 0.2:\n",
    "        words = row['lemma'].split()\n",
    "        for word in words: \n",
    "            word = word.rstrip('0123456789#')\n",
    "            if '_' not in word:\n",
    "                verypos.append(word)\n",
    "    elif row['PosScore'] > 0.7 and row['NegScore'] < 0.2:\n",
    "        words = row['lemma'].split()\n",
    "        for word in words: \n",
    "            word = word.rstrip('0123456789#')\n",
    "            if '_' not in word:\n",
    "                pospos.append(word)\n",
    "    elif row['PosScore'] > 0.6 and row['NegScore'] < 0.2:\n",
    "        words = row['lemma'].split()\n",
    "        for word in words: \n",
    "            word = word.rstrip('0123456789#')\n",
    "            if '_' not in word:\n",
    "                pos.append(word)\n",
    "    # add negatives\n",
    "    elif row['NegScore'] > 0.9 and row['PosScore'] < 0.2:\n",
    "        words = row['lemma'].split()\n",
    "        for word in words:\n",
    "            word = word.rstrip('0123456789#')\n",
    "            if '_' not in word:\n",
    "                superneg.append(word)\n",
    "    elif row['NegScore'] > 0.8 and row['PosScore'] < 0.2:\n",
    "        words = row['lemma'].split()\n",
    "        for word in words: \n",
    "            word = word.rstrip('0123456789#')\n",
    "            if '_' not in word:\n",
    "                veryneg.append(word)\n",
    "    elif row['NegScore'] > 0.7 and row['PosScore'] < 0.2:\n",
    "        words = row['lemma'].split()\n",
    "        for word in words: \n",
    "            word = word.rstrip('0123456789#')\n",
    "            if '_' not in word:\n",
    "                negneg.append(word)\n",
    "    elif row['NegScore'] > 0.6 and row['PosScore'] < 0.2:\n",
    "        words = row['lemma'].split()\n",
    "        for word in words: \n",
    "            word = word.rstrip('0123456789#')\n",
    "            if '_' not in word:\n",
    "                neg.append(word)\n",
    "\n",
    "print(len(superpos), len(verypos), len(pospos), len(pos), len(superneg), len(veryneg), len(negneg), len(neg))"
   ]
  },
  {
   "cell_type": "code",
   "execution_count": null,
   "metadata": {},
   "outputs": [],
   "source": [
    "positivelists = []\n",
    "positivelists.append(superpos)\n",
    "positivelists.append(verypos)\n",
    "positivelists.append(pospos)\n",
    "positivelists.append(pos)\n",
    "positivelists.append(superneg)\n",
    "positivelists.append(veryneg)\n",
    "positivelists.append(negneg)\n",
    "positivelists.append(neg)"
   ]
  },
  {
   "cell_type": "code",
   "execution_count": null,
   "metadata": {},
   "outputs": [],
   "source": [
    "file = open(\"SentixItlexicon.txt\" ,\"w\") "
   ]
  },
  {
   "cell_type": "code",
   "execution_count": null,
   "metadata": {},
   "outputs": [],
   "source": [
    "for poslist in positivelists:\n",
    "    for word in poslist:\n",
    "            words = \" \".join([x for x in poslist if x is not word])\n",
    "            line = word +\" \"+words+\"\\n\"\n",
    "            file.write(line)"
   ]
  }
 ],
 "metadata": {
  "kernelspec": {
   "display_name": "Python 3",
   "language": "python",
   "name": "python3"
  },
  "language_info": {
   "codemirror_mode": {
    "name": "ipython",
    "version": 3
   },
   "file_extension": ".py",
   "mimetype": "text/x-python",
   "name": "python",
   "nbconvert_exporter": "python",
   "pygments_lexer": "ipython3",
   "version": "3.6.6"
  }
 },
 "nbformat": 4,
 "nbformat_minor": 2
}
